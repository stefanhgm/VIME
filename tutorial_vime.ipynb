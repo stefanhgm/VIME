{
 "cells": [
  {
   "cell_type": "markdown",
   "metadata": {
    "pycharm": {
     "name": "#%% md\n"
    }
   },
   "source": [
    "# VIME Tutorial\n",
    "\n",
    "### VIME: Extending the Success of Self- and Semi-supervised Learning to Tabular Domain\n",
    "\n",
    "- Paper: Jinsung Yoon, Yao Zhang, James Jordon, Mihaela van der Schaar, \n",
    "  \"VIME: Extending the Success of Self- and Semi-supervised Learning to Tabular Domain,\" \n",
    "  Neural Information Processing Systems (NeurIPS), 2020.\n",
    "\n",
    "- Paper link: TBD\n",
    "\n",
    "- Last updated Date: October 11th 2020\n",
    "\n",
    "- Code author: Jinsung Yoon (jsyoon0823@gmail.com)\n",
    "\n",
    "This notebook describes the user-guide of self- and semi-supervised learning for tabular domain using MNIST database."
   ]
  },
  {
   "cell_type": "markdown",
   "metadata": {
    "pycharm": {
     "name": "#%% md\n"
    }
   },
   "source": [
    "### Prerequisite\n",
    "Clone https://github.com/jsyoon0823/VIME.git to the current directory."
   ]
  },
  {
   "cell_type": "markdown",
   "metadata": {
    "pycharm": {
     "name": "#%% md\n"
    }
   },
   "source": [
    "### Necessary packages and functions call\n",
    "\n",
    "- data_loader: MNIST dataset loading and preprocessing\n",
    "- supervised_models: supervised learning models (Logistic regression, XGBoost, and Multi-layer Perceptron)\n",
    "\n",
    "- vime_self: Self-supervised learning part of VIME framework\n",
    "- vime_semi: Semi-supervised learning part of VIME framework\n",
    "- vime_utils: Some utility functions for VIME framework"
   ]
  },
  {
   "cell_type": "code",
   "execution_count": 1,
   "metadata": {
    "pycharm": {
     "name": "#%%\n"
    }
   },
   "outputs": [
    {
     "name": "stderr",
     "output_type": "stream",
     "text": [
      "Using TensorFlow backend.\n"
     ]
    }
   ],
   "source": [
    "import numpy as np\n",
    "import os\n",
    "import warnings\n",
    "warnings.filterwarnings(\"ignore\")\n",
    "  \n",
    "from data_loader import load_mnist_data\n",
    "from supervised_models import logit, xgb_model, mlp\n",
    "\n",
    "from vime_self import vime_self\n",
    "from vime_semi import vime_semi\n",
    "from vime_utils import perf_metric"
   ]
  },
  {
   "cell_type": "markdown",
   "metadata": {
    "pycharm": {
     "name": "#%% md\n"
    }
   },
   "source": [
    "### Set the parameters and define output\n",
    "\n",
    "-   label_no: Number of labeled data to be used\n",
    "-   model_sets: supervised model set (mlp, logit, or xgboost)\n",
    "-   p_m: corruption probability for self-supervised learning\n",
    "-   alpha: hyper-parameter to control the weights of feature and mask losses\n",
    "-   K: number of augmented samples\n",
    "-   beta: hyperparameter to control supervised and unsupervised loss\n",
    "-   label_data_rate: ratio of labeled data\n",
    "-   metric: prediction performance metric (either acc or auc)"
   ]
  },
  {
   "cell_type": "code",
   "execution_count": 2,
   "metadata": {
    "pycharm": {
     "name": "#%%\n"
    }
   },
   "outputs": [],
   "source": [
    "# Experimental parameters\n",
    "label_no = 1000  \n",
    "model_sets = ['logit','xgboost','mlp']\n",
    "  \n",
    "# Hyper-parameters\n",
    "p_m = 0.3\n",
    "alpha = 2.0\n",
    "K = 3\n",
    "beta = 1.0\n",
    "label_data_rate = 0.1\n",
    "\n",
    "# Metric\n",
    "metric = 'acc'\n",
    "  \n",
    "# Define output\n",
    "results = np.zeros([len(model_sets)+2])  "
   ]
  },
  {
   "cell_type": "markdown",
   "metadata": {
    "pycharm": {
     "name": "#%% md\n"
    }
   },
   "source": [
    "### Load data\n",
    "\n",
    "Load original MNIST dataset and preprocess the loaded data.\n",
    "- Only select the subset of data as the labeled data"
   ]
  },
  {
   "cell_type": "code",
   "execution_count": 3,
   "metadata": {
    "pycharm": {
     "name": "#%%\n"
    }
   },
   "outputs": [],
   "source": [
    "# Load data\n",
    "x_train, y_train, x_unlab, x_test, y_test = load_mnist_data(label_data_rate)\n",
    "    \n",
    "# Use subset of labeled data\n",
    "x_train = x_train[:label_no, :]\n",
    "y_train = y_train[:label_no, :]  "
   ]
  },
  {
   "cell_type": "markdown",
   "metadata": {
    "pycharm": {
     "name": "#%% md\n"
    }
   },
   "source": [
    "### Train supervised models\n",
    "\n",
    "- Train 3 supervised learning models (Logistic regression, XGBoost, MLP)\n",
    "- Save the performances of each supervised model."
   ]
  },
  {
   "cell_type": "code",
   "execution_count": 4,
   "metadata": {
    "pycharm": {
     "name": "#%%\n"
    }
   },
   "outputs": [
    {
     "name": "stderr",
     "output_type": "stream",
     "text": [
      "OMP: Info #155: KMP_AFFINITY: Initial OS proc set respected: 0-47\n",
      "OMP: Info #216: KMP_AFFINITY: decoding x2APIC ids.\n",
      "OMP: Info #157: KMP_AFFINITY: 48 available OS procs\n",
      "OMP: Info #158: KMP_AFFINITY: Uniform topology\n",
      "OMP: Info #287: KMP_AFFINITY: topology layer \"LL cache\" is equivalent to \"socket\".\n",
      "OMP: Info #287: KMP_AFFINITY: topology layer \"L3 cache\" is equivalent to \"socket\".\n",
      "OMP: Info #287: KMP_AFFINITY: topology layer \"L2 cache\" is equivalent to \"core\".\n",
      "OMP: Info #287: KMP_AFFINITY: topology layer \"L1 cache\" is equivalent to \"core\".\n",
      "OMP: Info #192: KMP_AFFINITY: 2 sockets x 12 cores/socket x 2 threads/core (24 total cores)\n",
      "OMP: Info #218: KMP_AFFINITY: OS proc to physical thread map:\n",
      "OMP: Info #172: KMP_AFFINITY: OS proc 0 maps to socket 0 core 0 thread 0 \n",
      "OMP: Info #172: KMP_AFFINITY: OS proc 24 maps to socket 0 core 0 thread 1 \n",
      "OMP: Info #172: KMP_AFFINITY: OS proc 1 maps to socket 0 core 1 thread 0 \n",
      "OMP: Info #172: KMP_AFFINITY: OS proc 25 maps to socket 0 core 1 thread 1 \n",
      "OMP: Info #172: KMP_AFFINITY: OS proc 2 maps to socket 0 core 2 thread 0 \n",
      "OMP: Info #172: KMP_AFFINITY: OS proc 26 maps to socket 0 core 2 thread 1 \n",
      "OMP: Info #172: KMP_AFFINITY: OS proc 3 maps to socket 0 core 3 thread 0 \n",
      "OMP: Info #172: KMP_AFFINITY: OS proc 27 maps to socket 0 core 3 thread 1 \n",
      "OMP: Info #172: KMP_AFFINITY: OS proc 4 maps to socket 0 core 4 thread 0 \n",
      "OMP: Info #172: KMP_AFFINITY: OS proc 28 maps to socket 0 core 4 thread 1 \n",
      "OMP: Info #172: KMP_AFFINITY: OS proc 5 maps to socket 0 core 5 thread 0 \n",
      "OMP: Info #172: KMP_AFFINITY: OS proc 29 maps to socket 0 core 5 thread 1 \n",
      "OMP: Info #172: KMP_AFFINITY: OS proc 6 maps to socket 0 core 6 thread 0 \n",
      "OMP: Info #172: KMP_AFFINITY: OS proc 30 maps to socket 0 core 6 thread 1 \n",
      "OMP: Info #172: KMP_AFFINITY: OS proc 7 maps to socket 0 core 8 thread 0 \n",
      "OMP: Info #172: KMP_AFFINITY: OS proc 31 maps to socket 0 core 8 thread 1 \n",
      "OMP: Info #172: KMP_AFFINITY: OS proc 8 maps to socket 0 core 9 thread 0 \n",
      "OMP: Info #172: KMP_AFFINITY: OS proc 32 maps to socket 0 core 9 thread 1 \n",
      "OMP: Info #172: KMP_AFFINITY: OS proc 9 maps to socket 0 core 11 thread 0 \n",
      "OMP: Info #172: KMP_AFFINITY: OS proc 33 maps to socket 0 core 11 thread 1 \n",
      "OMP: Info #172: KMP_AFFINITY: OS proc 10 maps to socket 0 core 12 thread 0 \n",
      "OMP: Info #172: KMP_AFFINITY: OS proc 34 maps to socket 0 core 12 thread 1 \n",
      "OMP: Info #172: KMP_AFFINITY: OS proc 11 maps to socket 0 core 13 thread 0 \n",
      "OMP: Info #172: KMP_AFFINITY: OS proc 35 maps to socket 0 core 13 thread 1 \n",
      "OMP: Info #172: KMP_AFFINITY: OS proc 12 maps to socket 1 core 0 thread 0 \n",
      "OMP: Info #172: KMP_AFFINITY: OS proc 36 maps to socket 1 core 0 thread 1 \n",
      "OMP: Info #172: KMP_AFFINITY: OS proc 13 maps to socket 1 core 2 thread 0 \n",
      "OMP: Info #172: KMP_AFFINITY: OS proc 37 maps to socket 1 core 2 thread 1 \n",
      "OMP: Info #172: KMP_AFFINITY: OS proc 14 maps to socket 1 core 3 thread 0 \n",
      "OMP: Info #172: KMP_AFFINITY: OS proc 38 maps to socket 1 core 3 thread 1 \n",
      "OMP: Info #172: KMP_AFFINITY: OS proc 15 maps to socket 1 core 4 thread 0 \n",
      "OMP: Info #172: KMP_AFFINITY: OS proc 39 maps to socket 1 core 4 thread 1 \n",
      "OMP: Info #172: KMP_AFFINITY: OS proc 16 maps to socket 1 core 5 thread 0 \n",
      "OMP: Info #172: KMP_AFFINITY: OS proc 40 maps to socket 1 core 5 thread 1 \n",
      "OMP: Info #172: KMP_AFFINITY: OS proc 17 maps to socket 1 core 8 thread 0 \n",
      "OMP: Info #172: KMP_AFFINITY: OS proc 41 maps to socket 1 core 8 thread 1 \n",
      "OMP: Info #172: KMP_AFFINITY: OS proc 18 maps to socket 1 core 9 thread 0 \n",
      "OMP: Info #172: KMP_AFFINITY: OS proc 42 maps to socket 1 core 9 thread 1 \n",
      "OMP: Info #172: KMP_AFFINITY: OS proc 19 maps to socket 1 core 10 thread 0 \n",
      "OMP: Info #172: KMP_AFFINITY: OS proc 43 maps to socket 1 core 10 thread 1 \n",
      "OMP: Info #172: KMP_AFFINITY: OS proc 20 maps to socket 1 core 11 thread 0 \n",
      "OMP: Info #172: KMP_AFFINITY: OS proc 44 maps to socket 1 core 11 thread 1 \n",
      "OMP: Info #172: KMP_AFFINITY: OS proc 21 maps to socket 1 core 12 thread 0 \n",
      "OMP: Info #172: KMP_AFFINITY: OS proc 45 maps to socket 1 core 12 thread 1 \n",
      "OMP: Info #172: KMP_AFFINITY: OS proc 22 maps to socket 1 core 13 thread 0 \n",
      "OMP: Info #172: KMP_AFFINITY: OS proc 46 maps to socket 1 core 13 thread 1 \n",
      "OMP: Info #172: KMP_AFFINITY: OS proc 23 maps to socket 1 core 14 thread 0 \n",
      "OMP: Info #172: KMP_AFFINITY: OS proc 47 maps to socket 1 core 14 thread 1 \n",
      "OMP: Info #254: KMP_AFFINITY: pid 917931 tid 917931 thread 0 bound to OS proc set 0\n",
      "OMP: Info #254: KMP_AFFINITY: pid 917931 tid 918045 thread 1 bound to OS proc set 1\n",
      "OMP: Info #254: KMP_AFFINITY: pid 917931 tid 918046 thread 2 bound to OS proc set 2\n",
      "OMP: Info #254: KMP_AFFINITY: pid 917931 tid 918047 thread 3 bound to OS proc set 3\n",
      "OMP: Info #254: KMP_AFFINITY: pid 917931 tid 918048 thread 4 bound to OS proc set 4\n",
      "OMP: Info #254: KMP_AFFINITY: pid 917931 tid 918049 thread 5 bound to OS proc set 5\n",
      "OMP: Info #254: KMP_AFFINITY: pid 917931 tid 918050 thread 6 bound to OS proc set 6\n",
      "OMP: Info #254: KMP_AFFINITY: pid 917931 tid 918051 thread 7 bound to OS proc set 7\n",
      "OMP: Info #254: KMP_AFFINITY: pid 917931 tid 918052 thread 8 bound to OS proc set 8\n",
      "OMP: Info #254: KMP_AFFINITY: pid 917931 tid 918053 thread 9 bound to OS proc set 9\n",
      "OMP: Info #254: KMP_AFFINITY: pid 917931 tid 918054 thread 10 bound to OS proc set 10\n",
      "OMP: Info #254: KMP_AFFINITY: pid 917931 tid 918055 thread 11 bound to OS proc set 11\n",
      "OMP: Info #254: KMP_AFFINITY: pid 917931 tid 918056 thread 12 bound to OS proc set 12\n",
      "OMP: Info #254: KMP_AFFINITY: pid 917931 tid 918057 thread 13 bound to OS proc set 13\n",
      "OMP: Info #254: KMP_AFFINITY: pid 917931 tid 918058 thread 14 bound to OS proc set 14\n",
      "OMP: Info #254: KMP_AFFINITY: pid 917931 tid 918059 thread 15 bound to OS proc set 15\n",
      "OMP: Info #254: KMP_AFFINITY: pid 917931 tid 918060 thread 16 bound to OS proc set 16\n",
      "OMP: Info #254: KMP_AFFINITY: pid 917931 tid 918061 thread 17 bound to OS proc set 17\n",
      "OMP: Info #254: KMP_AFFINITY: pid 917931 tid 918062 thread 18 bound to OS proc set 18\n",
      "OMP: Info #254: KMP_AFFINITY: pid 917931 tid 918063 thread 19 bound to OS proc set 19\n",
      "OMP: Info #254: KMP_AFFINITY: pid 917931 tid 918064 thread 20 bound to OS proc set 20\n",
      "OMP: Info #254: KMP_AFFINITY: pid 917931 tid 918065 thread 21 bound to OS proc set 21\n",
      "OMP: Info #254: KMP_AFFINITY: pid 917931 tid 918066 thread 22 bound to OS proc set 22\n",
      "OMP: Info #254: KMP_AFFINITY: pid 917931 tid 918067 thread 23 bound to OS proc set 23\n",
      "OMP: Info #254: KMP_AFFINITY: pid 917931 tid 918068 thread 24 bound to OS proc set 24\n",
      "OMP: Info #254: KMP_AFFINITY: pid 917931 tid 918069 thread 25 bound to OS proc set 25\n",
      "OMP: Info #254: KMP_AFFINITY: pid 917931 tid 918070 thread 26 bound to OS proc set 26\n",
      "OMP: Info #254: KMP_AFFINITY: pid 917931 tid 918071 thread 27 bound to OS proc set 27\n",
      "OMP: Info #254: KMP_AFFINITY: pid 917931 tid 918074 thread 30 bound to OS proc set 30\n",
      "OMP: Info #254: KMP_AFFINITY: pid 917931 tid 918073 thread 29 bound to OS proc set 29\n",
      "OMP: Info #254: KMP_AFFINITY: pid 917931 tid 918072 thread 28 bound to OS proc set 28\n",
      "OMP: Info #254: KMP_AFFINITY: pid 917931 tid 918075 thread 31 bound to OS proc set 31\n",
      "OMP: Info #254: KMP_AFFINITY: pid 917931 tid 918076 thread 32 bound to OS proc set 32\n",
      "OMP: Info #254: KMP_AFFINITY: pid 917931 tid 918078 thread 34 bound to OS proc set 34\n",
      "OMP: Info #254: KMP_AFFINITY: pid 917931 tid 918077 thread 33 bound to OS proc set 33\n",
      "OMP: Info #254: KMP_AFFINITY: pid 917931 tid 918079 thread 35 bound to OS proc set 35\n",
      "OMP: Info #254: KMP_AFFINITY: pid 917931 tid 918080 thread 36 bound to OS proc set 36\n",
      "OMP: Info #254: KMP_AFFINITY: pid 917931 tid 918082 thread 38 bound to OS proc set 38\n",
      "OMP: Info #254: KMP_AFFINITY: pid 917931 tid 918081 thread 37 bound to OS proc set 37\n",
      "OMP: Info #254: KMP_AFFINITY: pid 917931 tid 918083 thread 39 bound to OS proc set 39\n",
      "OMP: Info #254: KMP_AFFINITY: pid 917931 tid 918084 thread 40 bound to OS proc set 40\n",
      "OMP: Info #254: KMP_AFFINITY: pid 917931 tid 918085 thread 41 bound to OS proc set 41\n",
      "OMP: Info #254: KMP_AFFINITY: pid 917931 tid 918086 thread 42 bound to OS proc set 42\n",
      "OMP: Info #254: KMP_AFFINITY: pid 917931 tid 918087 thread 43 bound to OS proc set 43\n",
      "OMP: Info #254: KMP_AFFINITY: pid 917931 tid 918088 thread 44 bound to OS proc set 44\n",
      "OMP: Info #254: KMP_AFFINITY: pid 917931 tid 918089 thread 45 bound to OS proc set 45\n",
      "OMP: Info #254: KMP_AFFINITY: pid 917931 tid 918090 thread 46 bound to OS proc set 46\n",
      "OMP: Info #254: KMP_AFFINITY: pid 917931 tid 918091 thread 47 bound to OS proc set 47\n"
     ]
    },
    {
     "name": "stdout",
     "output_type": "stream",
     "text": [
      "[17:07:23] WARNING: ../src/learner.cc:1115: Starting in XGBoost 1.3.0, the default evaluation metric used with the objective 'multi:softprob' was changed from 'merror' to 'mlogloss'. Explicitly set eval_metric if you'd like to restore the old behavior.\n",
      "WARNING:tensorflow:From /opt/conda/stefanhg/envs/vime/lib/python3.7/site-packages/tensorflow_core/python/ops/resource_variable_ops.py:1630: calling BaseResourceVariable.__init__ (from tensorflow.python.ops.resource_variable_ops) with constraint is deprecated and will be removed in a future version.\n",
      "Instructions for updating:\n",
      "If using Keras pass *_constraint arguments to layers.\n",
      "WARNING:tensorflow:From /opt/conda/stefanhg/envs/vime/lib/python3.7/site-packages/keras/backend/tensorflow_backend.py:422: The name tf.global_variables is deprecated. Please use tf.compat.v1.global_variables instead.\n",
      "\n"
     ]
    },
    {
     "name": "stderr",
     "output_type": "stream",
     "text": [
      "2022-07-07 17:08:18.100035: I tensorflow/core/platform/cpu_feature_guard.cc:145] This TensorFlow binary is optimized with Intel(R) MKL-DNN to use the following CPU instructions in performance critical operations:  SSE4.1 SSE4.2 AVX AVX2 AVX512F FMA\n",
      "To enable them in non-MKL-DNN operations, rebuild TensorFlow with the appropriate compiler flags.\n",
      "2022-07-07 17:08:18.122409: I tensorflow/core/platform/profile_utils/cpu_utils.cc:94] CPU Frequency: 2600000000 Hz\n",
      "2022-07-07 17:08:18.122760: I tensorflow/compiler/xla/service/service.cc:168] XLA service 0x5592997f1b70 initialized for platform Host (this does not guarantee that XLA will be used). Devices:\n",
      "2022-07-07 17:08:18.122800: I tensorflow/compiler/xla/service/service.cc:176]   StreamExecutor device (0): Host, Default Version\n",
      "2022-07-07 17:08:18.122997: I tensorflow/core/common_runtime/process_util.cc:115] Creating new thread pool with default inter op setting: 2. Tune using inter_op_parallelism_threads for best performance.\n",
      "OMP: Info #254: KMP_AFFINITY: pid 917931 tid 918426 thread 48 bound to OS proc set 0\n",
      "OMP: Info #254: KMP_AFFINITY: pid 917931 tid 918425 thread 49 bound to OS proc set 1\n",
      "OMP: Info #254: KMP_AFFINITY: pid 917931 tid 918428 thread 50 bound to OS proc set 2\n",
      "OMP: Info #254: KMP_AFFINITY: pid 917931 tid 918429 thread 51 bound to OS proc set 3\n",
      "OMP: Info #254: KMP_AFFINITY: pid 917931 tid 918430 thread 52 bound to OS proc set 4\n",
      "OMP: Info #254: KMP_AFFINITY: pid 917931 tid 918431 thread 53 bound to OS proc set 5\n",
      "OMP: Info #254: KMP_AFFINITY: pid 917931 tid 918432 thread 54 bound to OS proc set 6\n",
      "OMP: Info #254: KMP_AFFINITY: pid 917931 tid 918433 thread 55 bound to OS proc set 7\n",
      "OMP: Info #254: KMP_AFFINITY: pid 917931 tid 918435 thread 57 bound to OS proc set 9\n",
      "OMP: Info #254: KMP_AFFINITY: pid 917931 tid 918434 thread 56 bound to OS proc set 8\n",
      "OMP: Info #254: KMP_AFFINITY: pid 917931 tid 918436 thread 58 bound to OS proc set 10\n",
      "OMP: Info #254: KMP_AFFINITY: pid 917931 tid 918437 thread 59 bound to OS proc set 11\n",
      "OMP: Info #254: KMP_AFFINITY: pid 917931 tid 918438 thread 60 bound to OS proc set 12\n",
      "OMP: Info #254: KMP_AFFINITY: pid 917931 tid 918439 thread 61 bound to OS proc set 13\n",
      "OMP: Info #254: KMP_AFFINITY: pid 917931 tid 918440 thread 62 bound to OS proc set 14\n",
      "OMP: Info #254: KMP_AFFINITY: pid 917931 tid 918441 thread 63 bound to OS proc set 15\n",
      "OMP: Info #254: KMP_AFFINITY: pid 917931 tid 918442 thread 64 bound to OS proc set 16\n",
      "OMP: Info #254: KMP_AFFINITY: pid 917931 tid 918443 thread 65 bound to OS proc set 17\n",
      "OMP: Info #254: KMP_AFFINITY: pid 917931 tid 918444 thread 66 bound to OS proc set 18\n",
      "OMP: Info #254: KMP_AFFINITY: pid 917931 tid 918445 thread 67 bound to OS proc set 19\n",
      "OMP: Info #254: KMP_AFFINITY: pid 917931 tid 918446 thread 68 bound to OS proc set 20\n",
      "OMP: Info #254: KMP_AFFINITY: pid 917931 tid 918447 thread 69 bound to OS proc set 21\n",
      "OMP: Info #254: KMP_AFFINITY: pid 917931 tid 918448 thread 70 bound to OS proc set 22\n",
      "OMP: Info #254: KMP_AFFINITY: pid 917931 tid 918450 thread 72 bound to OS proc set 24\n",
      "OMP: Info #254: KMP_AFFINITY: pid 917931 tid 918449 thread 71 bound to OS proc set 23\n",
      "OMP: Info #254: KMP_AFFINITY: pid 917931 tid 918451 thread 73 bound to OS proc set 25\n",
      "OMP: Info #254: KMP_AFFINITY: pid 917931 tid 918452 thread 74 bound to OS proc set 26\n",
      "OMP: Info #254: KMP_AFFINITY: pid 917931 tid 918455 thread 77 bound to OS proc set 29\n",
      "OMP: Info #254: KMP_AFFINITY: pid 917931 tid 918454 thread 76 bound to OS proc set 28\n",
      "OMP: Info #254: KMP_AFFINITY: pid 917931 tid 918453 thread 75 bound to OS proc set 27\n",
      "OMP: Info #254: KMP_AFFINITY: pid 917931 tid 918456 thread 78 bound to OS proc set 30\n",
      "OMP: Info #254: KMP_AFFINITY: pid 917931 tid 918457 thread 79 bound to OS proc set 31\n",
      "OMP: Info #254: KMP_AFFINITY: pid 917931 tid 918458 thread 80 bound to OS proc set 32\n",
      "OMP: Info #254: KMP_AFFINITY: pid 917931 tid 918460 thread 82 bound to OS proc set 34\n",
      "OMP: Info #254: KMP_AFFINITY: pid 917931 tid 918459 thread 81 bound to OS proc set 33\n",
      "OMP: Info #254: KMP_AFFINITY: pid 917931 tid 918461 thread 83 bound to OS proc set 35\n",
      "OMP: Info #254: KMP_AFFINITY: pid 917931 tid 918462 thread 84 bound to OS proc set 36\n",
      "OMP: Info #254: KMP_AFFINITY: pid 917931 tid 918464 thread 86 bound to OS proc set 38\n",
      "OMP: Info #254: KMP_AFFINITY: pid 917931 tid 918463 thread 85 bound to OS proc set 37\n",
      "OMP: Info #254: KMP_AFFINITY: pid 917931 tid 918467 thread 89 bound to OS proc set 41\n",
      "OMP: Info #254: KMP_AFFINITY: pid 917931 tid 918465 thread 87 bound to OS proc set 39\n",
      "OMP: Info #254: KMP_AFFINITY: pid 917931 tid 918468 thread 90 bound to OS proc set 42\n",
      "OMP: Info #254: KMP_AFFINITY: pid 917931 tid 918466 thread 88 bound to OS proc set 40\n",
      "OMP: Info #254: KMP_AFFINITY: pid 917931 tid 918469 thread 91 bound to OS proc set 43\n",
      "OMP: Info #254: KMP_AFFINITY: pid 917931 tid 918470 thread 92 bound to OS proc set 44\n",
      "OMP: Info #254: KMP_AFFINITY: pid 917931 tid 918471 thread 93 bound to OS proc set 45\n",
      "OMP: Info #254: KMP_AFFINITY: pid 917931 tid 918472 thread 94 bound to OS proc set 46\n",
      "OMP: Info #254: KMP_AFFINITY: pid 917931 tid 918474 thread 96 bound to OS proc set 0\n",
      "OMP: Info #254: KMP_AFFINITY: pid 917931 tid 918473 thread 95 bound to OS proc set 47\n"
     ]
    },
    {
     "name": "stdout",
     "output_type": "stream",
     "text": [
      "Restoring model weights from the end of the best epoch\n",
      "Epoch 00066: early stopping\n",
      "Supervised Performance, Model Name: logit, Performance: 0.8723\n",
      "Supervised Performance, Model Name: xgboost, Performance: 0.8813\n",
      "Supervised Performance, Model Name: mlp, Performance: 0.8883\n"
     ]
    }
   ],
   "source": [
    "# Logistic regression\n",
    "y_test_hat = logit(x_train, y_train, x_test)\n",
    "results[0] = perf_metric(metric, y_test, y_test_hat) \n",
    "\n",
    "# XGBoost\n",
    "y_test_hat = xgb_model(x_train, y_train, x_test)    \n",
    "results[1] = perf_metric(metric, y_test, y_test_hat)   \n",
    "\n",
    "# MLP\n",
    "mlp_parameters = dict()\n",
    "mlp_parameters['hidden_dim'] = 100\n",
    "mlp_parameters['epochs'] = 100\n",
    "mlp_parameters['activation'] = 'relu'\n",
    "mlp_parameters['batch_size'] = 100\n",
    "      \n",
    "y_test_hat = mlp(x_train, y_train, x_test, mlp_parameters)\n",
    "results[2] = perf_metric(metric, y_test, y_test_hat)\n",
    "\n",
    "# Report performance\n",
    "for m_it in range(len(model_sets)):  \n",
    "    \n",
    "  model_name = model_sets[m_it]  \n",
    "    \n",
    "  print('Supervised Performance, Model Name: ' + model_name + \n",
    "        ', Performance: ' + str(results[m_it]))"
   ]
  },
  {
   "cell_type": "markdown",
   "metadata": {
    "pycharm": {
     "name": "#%% md\n"
    }
   },
   "source": [
    "### Train & Test VIME-Self\n",
    "Train self-supervised part of VIME framework only\n",
    "- Check the performance of self-supervised part of VIME framework."
   ]
  },
  {
   "cell_type": "code",
   "execution_count": 5,
   "metadata": {
    "pycharm": {
     "name": "#%%\n"
    }
   },
   "outputs": [
    {
     "name": "stdout",
     "output_type": "stream",
     "text": [
      "WARNING:tensorflow:From /opt/conda/stefanhg/envs/vime/lib/python3.7/site-packages/tensorflow_core/python/ops/nn_impl.py:183: where (from tensorflow.python.ops.array_ops) is deprecated and will be removed in a future version.\n",
      "Instructions for updating:\n",
      "Use tf.where in 2.0, which has the same broadcast rule as np.where\n",
      "Epoch 1/10\n",
      "54000/54000 [==============================] - 27s 505us/step - loss: 0.2791 - mask_loss: 0.2267 - feature_loss: 0.0262\n",
      "Epoch 2/10\n",
      "54000/54000 [==============================] - 26s 482us/step - loss: 0.2439 - mask_loss: 0.2166 - feature_loss: 0.0136\n",
      "Epoch 3/10\n",
      "54000/54000 [==============================] - 15s 279us/step - loss: 0.2360 - mask_loss: 0.2125 - feature_loss: 0.0117\n",
      "Epoch 4/10\n",
      "54000/54000 [==============================] - 12s 223us/step - loss: 0.2299 - mask_loss: 0.2082 - feature_loss: 0.0108\n",
      "Epoch 5/10\n",
      "54000/54000 [==============================] - 11s 202us/step - loss: 0.2240 - mask_loss: 0.2034 - feature_loss: 0.0103\n",
      "Epoch 6/10\n",
      "54000/54000 [==============================] - 10s 182us/step - loss: 0.2183 - mask_loss: 0.1983 - feature_loss: 0.0100\n",
      "Epoch 7/10\n",
      "54000/54000 [==============================] - 11s 212us/step - loss: 0.2131 - mask_loss: 0.1935 - feature_loss: 0.0098\n",
      "Epoch 8/10\n",
      "54000/54000 [==============================] - 11s 203us/step - loss: 0.2084 - mask_loss: 0.1891 - feature_loss: 0.0097\n",
      "Epoch 9/10\n",
      "54000/54000 [==============================] - 10s 180us/step - loss: 0.2042 - mask_loss: 0.1851 - feature_loss: 0.0095\n",
      "Epoch 10/10\n",
      "54000/54000 [==============================] - 10s 188us/step - loss: 0.2004 - mask_loss: 0.1815 - feature_loss: 0.0094\n",
      "Restoring model weights from the end of the best epoch\n",
      "Epoch 00063: early stopping\n",
      "VIME-Self Performance: 0.9092\n"
     ]
    }
   ],
   "source": [
    "# Train VIME-Self\n",
    "vime_self_parameters = dict()\n",
    "vime_self_parameters['batch_size'] = 128\n",
    "vime_self_parameters['epochs'] = 10\n",
    "vime_self_encoder = vime_self(x_unlab, p_m, alpha, vime_self_parameters)\n",
    "  \n",
    "# Save encoder\n",
    "if not os.path.exists('save_model'):\n",
    "  os.makedirs('save_model')\n",
    "\n",
    "file_name = './save_model/encoder_model.h5'\n",
    "  \n",
    "vime_self_encoder.save(file_name)  \n",
    "        \n",
    "# Test VIME-Self\n",
    "x_train_hat = vime_self_encoder.predict(x_train)\n",
    "x_test_hat = vime_self_encoder.predict(x_test)\n",
    "      \n",
    "y_test_hat = mlp(x_train_hat, y_train, x_test_hat, mlp_parameters)\n",
    "results[3] = perf_metric(metric, y_test, y_test_hat)\n",
    "    \n",
    "print('VIME-Self Performance: ' + str(results[3]))"
   ]
  },
  {
   "cell_type": "markdown",
   "metadata": {
    "pycharm": {
     "name": "#%% md\n"
    }
   },
   "source": [
    "\n",
    "### Train & Test VIME\n",
    "\n",
    "Train semi-supervised part of VIME framework on top of trained self-supervised encoder\n",
    "- Check the performance of entire part of VIME framework."
   ]
  },
  {
   "cell_type": "code",
   "execution_count": 6,
   "metadata": {
    "pycharm": {
     "name": "#%%\n"
    }
   },
   "outputs": [
    {
     "name": "stdout",
     "output_type": "stream",
     "text": [
      "WARNING:tensorflow:From /data/IBC/stefan_ibc/VIME/vime_semi.py:66: The name tf.placeholder is deprecated. Please use tf.compat.v1.placeholder instead.\n",
      "\n",
      "WARNING:tensorflow:From /data/IBC/stefan_ibc/VIME/vime_semi.py:83: The name tf.variable_scope is deprecated. Please use tf.compat.v1.variable_scope instead.\n",
      "\n",
      "WARNING:tensorflow:From /data/IBC/stefan_ibc/VIME/vime_semi.py:83: The name tf.AUTO_REUSE is deprecated. Please use tf.compat.v1.AUTO_REUSE instead.\n",
      "\n",
      "WARNING:tensorflow:From /opt/conda/stefanhg/envs/vime/lib/python3.7/site-packages/tensorflow_core/contrib/layers/python/layers/layers.py:1866: Layer.apply (from tensorflow.python.keras.engine.base_layer) is deprecated and will be removed in a future version.\n",
      "Instructions for updating:\n",
      "Please use `layer.__call__` method instead.\n",
      "WARNING:tensorflow:From /data/IBC/stefan_ibc/VIME/vime_semi.py:105: The name tf.losses.softmax_cross_entropy is deprecated. Please use tf.compat.v1.losses.softmax_cross_entropy instead.\n",
      "\n",
      "WARNING:tensorflow:From /data/IBC/stefan_ibc/VIME/vime_semi.py:110: The name tf.trainable_variables is deprecated. Please use tf.compat.v1.trainable_variables instead.\n",
      "\n",
      "WARNING:tensorflow:From /data/IBC/stefan_ibc/VIME/vime_semi.py:113: The name tf.train.AdamOptimizer is deprecated. Please use tf.compat.v1.train.AdamOptimizer instead.\n",
      "\n",
      "WARNING:tensorflow:From /opt/conda/stefanhg/envs/vime/lib/python3.7/site-packages/keras/backend/tensorflow_backend.py:431: The name tf.is_variable_initialized is deprecated. Please use tf.compat.v1.is_variable_initialized instead.\n",
      "\n",
      "WARNING:tensorflow:From /opt/conda/stefanhg/envs/vime/lib/python3.7/site-packages/keras/backend/tensorflow_backend.py:438: The name tf.variables_initializer is deprecated. Please use tf.compat.v1.variables_initializer instead.\n",
      "\n",
      "WARNING:tensorflow:From /data/IBC/stefan_ibc/VIME/vime_semi.py:124: The name tf.Session is deprecated. Please use tf.compat.v1.Session instead.\n",
      "\n",
      "WARNING:tensorflow:From /data/IBC/stefan_ibc/VIME/vime_semi.py:125: The name tf.global_variables_initializer is deprecated. Please use tf.compat.v1.global_variables_initializer instead.\n",
      "\n",
      "WARNING:tensorflow:From /data/IBC/stefan_ibc/VIME/vime_semi.py:129: The name tf.train.Saver is deprecated. Please use tf.compat.v1.train.Saver instead.\n",
      "\n",
      "Iteration: 0/1000, Current loss: 2.3513\n",
      "Iteration: 100/1000, Current loss: 0.2909\n",
      "Iteration: 200/1000, Current loss: 0.2547\n",
      "Iteration: 300/1000, Current loss: 0.2481\n",
      "Iteration: 400/1000, Current loss: 0.244\n",
      "Iteration: 500/1000, Current loss: 0.243\n",
      "Iteration: 600/1000, Current loss: 0.2423\n",
      "WARNING:tensorflow:From /data/IBC/stefan_ibc/VIME/vime_semi.py:188: The name tf.train.import_meta_graph is deprecated. Please use tf.compat.v1.train.import_meta_graph instead.\n",
      "\n",
      "INFO:tensorflow:Restoring parameters from ./save_model/class_model.ckpt\n",
      "VIME Performance: 0.9268\n"
     ]
    }
   ],
   "source": [
    "# Train VIME-Semi\n",
    "vime_semi_parameters = dict()\n",
    "vime_semi_parameters['hidden_dim'] = 100\n",
    "vime_semi_parameters['batch_size'] = 128\n",
    "vime_semi_parameters['iterations'] = 1000\n",
    "y_test_hat = vime_semi(x_train, y_train, x_unlab, x_test, \n",
    "                       vime_semi_parameters, p_m, K, beta, file_name)\n",
    "\n",
    "# Test VIME\n",
    "results[4] = perf_metric(metric, y_test, y_test_hat)\n",
    "  \n",
    "print('VIME Performance: '+ str(results[4]))"
   ]
  },
  {
   "cell_type": "markdown",
   "metadata": {
    "pycharm": {
     "name": "#%% md\n"
    }
   },
   "source": [
    "### Report Prediction Performances\n",
    "\n",
    "- 3 Supervised learning models\n",
    "- VIME with self-supervised part only\n",
    "- Entire VIME framework"
   ]
  },
  {
   "cell_type": "code",
   "execution_count": 7,
   "metadata": {
    "pycharm": {
     "name": "#%%\n"
    }
   },
   "outputs": [
    {
     "name": "stdout",
     "output_type": "stream",
     "text": [
      "Supervised Performance, Model Name: logit, Performance: 0.8721\n",
      "Supervised Performance, Model Name: xgboost, Performance: 0.8763\n",
      "Supervised Performance, Model Name: mlp, Performance: 0.8935\n",
      "VIME-Self Performance: 0.9037\n",
      "VIME Performance: 0.9244\n"
     ]
    }
   ],
   "source": [
    "for m_it in range(len(model_sets)):  \n",
    "    \n",
    "  model_name = model_sets[m_it]  \n",
    "    \n",
    "  print('Supervised Performance, Model Name: ' + model_name + \n",
    "        ', Performance: ' + str(results[m_it]))\n",
    "    \n",
    "print('VIME-Self Performance: ' + str(results[m_it+1]))\n",
    "  \n",
    "print('VIME Performance: '+ str(results[m_it+2]))"
   ]
  }
 ],
 "metadata": {
  "kernelspec": {
   "display_name": "Python 3",
   "language": "python",
   "name": "python3"
  },
  "language_info": {
   "codemirror_mode": {
    "name": "ipython",
    "version": 3
   },
   "file_extension": ".py",
   "mimetype": "text/x-python",
   "name": "python",
   "nbconvert_exporter": "python",
   "pygments_lexer": "ipython3",
   "version": "3.7.4"
  }
 },
 "nbformat": 4,
 "nbformat_minor": 2
}